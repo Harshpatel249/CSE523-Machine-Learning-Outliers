{
  "nbformat": 4,
  "nbformat_minor": 0,
  "metadata": {
    "colab": {
      "name": "UsingGMMSciKit.ipynb",
      "provenance": [],
      "collapsed_sections": []
    },
    "kernelspec": {
      "display_name": "Python 3",
      "language": "python",
      "name": "python3"
    },
    "language_info": {
      "codemirror_mode": {
        "name": "ipython",
        "version": 3
      },
      "file_extension": ".py",
      "mimetype": "text/x-python",
      "name": "python",
      "nbconvert_exporter": "python",
      "pygments_lexer": "ipython3",
      "version": "3.8.3"
    },
    "accelerator": "GPU"
  },
  "cells": [
    {
      "cell_type": "code",
      "metadata": {
        "id": "8GZYTjq4hJdR"
      },
      "source": [
        "import pandas as pd\n",
        "import numpy as np\n",
        "import matplotlib.pyplot as plt\n",
        "from matplotlib.pyplot import *\n",
        "from IPython.display import Image\n",
        "from sklearn.mixture import GaussianMixture\n",
        "from scipy.special import logsumexp\n",
        "import itertools\n",
        "\n",
        "import warnings; warnings.simplefilter('ignore')"
      ],
      "execution_count": 1,
      "outputs": []
    },
    {
      "cell_type": "code",
      "metadata": {
        "colab": {
          "base_uri": "https://localhost:8080/"
        },
        "id": "D9WDzDzEhKgA",
        "outputId": "2c9cabcf-5163-4a99-a608-943c33963bfa"
      },
      "source": [
        "from google.colab import drive\n",
        "drive.mount('/content/drive')"
      ],
      "execution_count": 2,
      "outputs": [
        {
          "output_type": "stream",
          "text": [
            "Mounted at /content/drive\n"
          ],
          "name": "stdout"
        }
      ]
    },
    {
      "cell_type": "markdown",
      "metadata": {
        "id": "vIpxa2B7hJdc"
      },
      "source": [
        "# Data Cleaning"
      ]
    },
    {
      "cell_type": "code",
      "metadata": {
        "id": "SRwNIBAKhJdd"
      },
      "source": [
        "UcolNames = ['User_ID', 'Age', 'Sex', 'Occupation', 'ZIP_Code']\n",
        "Users = pd.read_csv('/content/drive/MyDrive/MLdata/100K/u.user',sep='|', names=UcolNames,encoding='latin-1')\n",
        "\n",
        "RcolNames = ['User_ID', 'Movie_ID', 'Rating', 'Timestamp']\n",
        "Ratings = pd.read_csv('/content/drive/MyDrive/MLdata/100K/u.data',sep='\\t', names=RcolNames,encoding='latin-1')\n"
      ],
      "execution_count": 3,
      "outputs": []
    },
    {
      "cell_type": "code",
      "metadata": {
        "colab": {
          "base_uri": "https://localhost:8080/"
        },
        "id": "-BXnfwVChJdd",
        "outputId": "885dd5ad-c6ce-403f-c474-c72c9a2c2700"
      },
      "source": [
        "Users.shape"
      ],
      "execution_count": 4,
      "outputs": [
        {
          "output_type": "execute_result",
          "data": {
            "text/plain": [
              "(943, 5)"
            ]
          },
          "metadata": {
            "tags": []
          },
          "execution_count": 4
        }
      ]
    },
    {
      "cell_type": "code",
      "metadata": {
        "colab": {
          "base_uri": "https://localhost:8080/",
          "height": 198
        },
        "id": "EHfRezGphJdf",
        "outputId": "f40ffe87-0ccc-4623-b17e-61344fd5f4e8"
      },
      "source": [
        "Users.head()"
      ],
      "execution_count": 5,
      "outputs": [
        {
          "output_type": "execute_result",
          "data": {
            "text/html": [
              "<div>\n",
              "<style scoped>\n",
              "    .dataframe tbody tr th:only-of-type {\n",
              "        vertical-align: middle;\n",
              "    }\n",
              "\n",
              "    .dataframe tbody tr th {\n",
              "        vertical-align: top;\n",
              "    }\n",
              "\n",
              "    .dataframe thead th {\n",
              "        text-align: right;\n",
              "    }\n",
              "</style>\n",
              "<table border=\"1\" class=\"dataframe\">\n",
              "  <thead>\n",
              "    <tr style=\"text-align: right;\">\n",
              "      <th></th>\n",
              "      <th>User_ID</th>\n",
              "      <th>Age</th>\n",
              "      <th>Sex</th>\n",
              "      <th>Occupation</th>\n",
              "      <th>ZIP_Code</th>\n",
              "    </tr>\n",
              "  </thead>\n",
              "  <tbody>\n",
              "    <tr>\n",
              "      <th>0</th>\n",
              "      <td>1</td>\n",
              "      <td>24</td>\n",
              "      <td>M</td>\n",
              "      <td>technician</td>\n",
              "      <td>85711</td>\n",
              "    </tr>\n",
              "    <tr>\n",
              "      <th>1</th>\n",
              "      <td>2</td>\n",
              "      <td>53</td>\n",
              "      <td>F</td>\n",
              "      <td>other</td>\n",
              "      <td>94043</td>\n",
              "    </tr>\n",
              "    <tr>\n",
              "      <th>2</th>\n",
              "      <td>3</td>\n",
              "      <td>23</td>\n",
              "      <td>M</td>\n",
              "      <td>writer</td>\n",
              "      <td>32067</td>\n",
              "    </tr>\n",
              "    <tr>\n",
              "      <th>3</th>\n",
              "      <td>4</td>\n",
              "      <td>24</td>\n",
              "      <td>M</td>\n",
              "      <td>technician</td>\n",
              "      <td>43537</td>\n",
              "    </tr>\n",
              "    <tr>\n",
              "      <th>4</th>\n",
              "      <td>5</td>\n",
              "      <td>33</td>\n",
              "      <td>F</td>\n",
              "      <td>other</td>\n",
              "      <td>15213</td>\n",
              "    </tr>\n",
              "  </tbody>\n",
              "</table>\n",
              "</div>"
            ],
            "text/plain": [
              "   User_ID  Age Sex  Occupation ZIP_Code\n",
              "0        1   24   M  technician    85711\n",
              "1        2   53   F       other    94043\n",
              "2        3   23   M      writer    32067\n",
              "3        4   24   M  technician    43537\n",
              "4        5   33   F       other    15213"
            ]
          },
          "metadata": {
            "tags": []
          },
          "execution_count": 5
        }
      ]
    },
    {
      "cell_type": "code",
      "metadata": {
        "colab": {
          "base_uri": "https://localhost:8080/"
        },
        "id": "RElfiacEhJdf",
        "outputId": "e35fc515-e78a-47df-f938-5a5a8c13e280"
      },
      "source": [
        "Ratings.shape"
      ],
      "execution_count": 6,
      "outputs": [
        {
          "output_type": "execute_result",
          "data": {
            "text/plain": [
              "(100000, 4)"
            ]
          },
          "metadata": {
            "tags": []
          },
          "execution_count": 6
        }
      ]
    },
    {
      "cell_type": "code",
      "metadata": {
        "colab": {
          "base_uri": "https://localhost:8080/",
          "height": 198
        },
        "id": "gKL8HwQthJdg",
        "outputId": "17b96f96-818c-4363-eb4b-ff1ae94a8b0b"
      },
      "source": [
        "Ratings.head()"
      ],
      "execution_count": 7,
      "outputs": [
        {
          "output_type": "execute_result",
          "data": {
            "text/html": [
              "<div>\n",
              "<style scoped>\n",
              "    .dataframe tbody tr th:only-of-type {\n",
              "        vertical-align: middle;\n",
              "    }\n",
              "\n",
              "    .dataframe tbody tr th {\n",
              "        vertical-align: top;\n",
              "    }\n",
              "\n",
              "    .dataframe thead th {\n",
              "        text-align: right;\n",
              "    }\n",
              "</style>\n",
              "<table border=\"1\" class=\"dataframe\">\n",
              "  <thead>\n",
              "    <tr style=\"text-align: right;\">\n",
              "      <th></th>\n",
              "      <th>User_ID</th>\n",
              "      <th>Movie_ID</th>\n",
              "      <th>Rating</th>\n",
              "      <th>Timestamp</th>\n",
              "    </tr>\n",
              "  </thead>\n",
              "  <tbody>\n",
              "    <tr>\n",
              "      <th>0</th>\n",
              "      <td>196</td>\n",
              "      <td>242</td>\n",
              "      <td>3</td>\n",
              "      <td>881250949</td>\n",
              "    </tr>\n",
              "    <tr>\n",
              "      <th>1</th>\n",
              "      <td>186</td>\n",
              "      <td>302</td>\n",
              "      <td>3</td>\n",
              "      <td>891717742</td>\n",
              "    </tr>\n",
              "    <tr>\n",
              "      <th>2</th>\n",
              "      <td>22</td>\n",
              "      <td>377</td>\n",
              "      <td>1</td>\n",
              "      <td>878887116</td>\n",
              "    </tr>\n",
              "    <tr>\n",
              "      <th>3</th>\n",
              "      <td>244</td>\n",
              "      <td>51</td>\n",
              "      <td>2</td>\n",
              "      <td>880606923</td>\n",
              "    </tr>\n",
              "    <tr>\n",
              "      <th>4</th>\n",
              "      <td>166</td>\n",
              "      <td>346</td>\n",
              "      <td>1</td>\n",
              "      <td>886397596</td>\n",
              "    </tr>\n",
              "  </tbody>\n",
              "</table>\n",
              "</div>"
            ],
            "text/plain": [
              "   User_ID  Movie_ID  Rating  Timestamp\n",
              "0      196       242       3  881250949\n",
              "1      186       302       3  891717742\n",
              "2       22       377       1  878887116\n",
              "3      244        51       2  880606923\n",
              "4      166       346       1  886397596"
            ]
          },
          "metadata": {
            "tags": []
          },
          "execution_count": 7
        }
      ]
    },
    {
      "cell_type": "code",
      "metadata": {
        "colab": {
          "base_uri": "https://localhost:8080/"
        },
        "id": "AmFahhLShJdg",
        "outputId": "6e19c39d-38d0-455f-fb27-2e3b75b3e2ef"
      },
      "source": [
        "len(Ratings['Movie_ID'].unique())"
      ],
      "execution_count": 8,
      "outputs": [
        {
          "output_type": "execute_result",
          "data": {
            "text/plain": [
              "1682"
            ]
          },
          "metadata": {
            "tags": []
          },
          "execution_count": 8
        }
      ]
    },
    {
      "cell_type": "code",
      "metadata": {
        "id": "2xqi68t4hJdh"
      },
      "source": [
        "TotUsers = Users['User_ID'].nunique()\n",
        "TotMovies = Ratings['Movie_ID'].nunique()"
      ],
      "execution_count": 9,
      "outputs": []
    },
    {
      "cell_type": "code",
      "metadata": {
        "colab": {
          "base_uri": "https://localhost:8080/"
        },
        "id": "lBY0znOLhJdh",
        "outputId": "ce13c7fc-1062-4137-b05d-481263450bc5"
      },
      "source": [
        "print(TotUsers)"
      ],
      "execution_count": 10,
      "outputs": [
        {
          "output_type": "stream",
          "text": [
            "943\n"
          ],
          "name": "stdout"
        }
      ]
    },
    {
      "cell_type": "code",
      "metadata": {
        "colab": {
          "base_uri": "https://localhost:8080/"
        },
        "id": "Gb9BUK1phJdi",
        "outputId": "62114623-616f-4406-f0dd-76d7582403aa"
      },
      "source": [
        "print(TotMovies)"
      ],
      "execution_count": 11,
      "outputs": [
        {
          "output_type": "stream",
          "text": [
            "1682\n"
          ],
          "name": "stdout"
        }
      ]
    },
    {
      "cell_type": "markdown",
      "metadata": {
        "id": "TovCIkt0hJdi"
      },
      "source": [
        "# Rating Matrix"
      ]
    },
    {
      "cell_type": "code",
      "metadata": {
        "colab": {
          "base_uri": "https://localhost:8080/"
        },
        "id": "r0bqltFIhJdi",
        "outputId": "6f0c83d8-26fa-4b25-cfc1-2cf99c49ec63"
      },
      "source": [
        "RatingsMatrix = Ratings.pivot_table(index=['User_ID'],columns=['Movie_ID'],values='Rating').reset_index(drop=True)\n",
        "print(RatingsMatrix)\n",
        "RatingsMatrix.shape"
      ],
      "execution_count": 12,
      "outputs": [
        {
          "output_type": "stream",
          "text": [
            "Movie_ID  1     2     3     4     5     ...  1678  1679  1680  1681  1682\n",
            "0          5.0   3.0   4.0   3.0   3.0  ...   NaN   NaN   NaN   NaN   NaN\n",
            "1          4.0   NaN   NaN   NaN   NaN  ...   NaN   NaN   NaN   NaN   NaN\n",
            "2          NaN   NaN   NaN   NaN   NaN  ...   NaN   NaN   NaN   NaN   NaN\n",
            "3          NaN   NaN   NaN   NaN   NaN  ...   NaN   NaN   NaN   NaN   NaN\n",
            "4          4.0   3.0   NaN   NaN   NaN  ...   NaN   NaN   NaN   NaN   NaN\n",
            "..         ...   ...   ...   ...   ...  ...   ...   ...   ...   ...   ...\n",
            "938        NaN   NaN   NaN   NaN   NaN  ...   NaN   NaN   NaN   NaN   NaN\n",
            "939        NaN   NaN   NaN   2.0   NaN  ...   NaN   NaN   NaN   NaN   NaN\n",
            "940        5.0   NaN   NaN   NaN   NaN  ...   NaN   NaN   NaN   NaN   NaN\n",
            "941        NaN   NaN   NaN   NaN   NaN  ...   NaN   NaN   NaN   NaN   NaN\n",
            "942        NaN   5.0   NaN   NaN   NaN  ...   NaN   NaN   NaN   NaN   NaN\n",
            "\n",
            "[943 rows x 1682 columns]\n"
          ],
          "name": "stdout"
        },
        {
          "output_type": "execute_result",
          "data": {
            "text/plain": [
              "(943, 1682)"
            ]
          },
          "metadata": {
            "tags": []
          },
          "execution_count": 12
        }
      ]
    },
    {
      "cell_type": "code",
      "metadata": {
        "colab": {
          "base_uri": "https://localhost:8080/"
        },
        "id": "aLkFNgDshJdj",
        "outputId": "1ef4124e-96b5-40ea-88a1-0a8f1e7be538"
      },
      "source": [
        "TotZeros = np.where(RatingsMatrix == 3)\n",
        "print(TotZeros)"
      ],
      "execution_count": 13,
      "outputs": [
        {
          "output_type": "stream",
          "text": [
            "(array([  0,   0,   0, ..., 942, 942, 942]), array([   1,    3,    4, ..., 1187, 1227, 1329]))\n"
          ],
          "name": "stdout"
        }
      ]
    },
    {
      "cell_type": "code",
      "metadata": {
        "id": "_WE7rNZphJdj"
      },
      "source": [
        "RatingsMatrix.fillna(0, inplace = True)\n",
        "DataMatrix = np.array(RatingsMatrix)"
      ],
      "execution_count": 14,
      "outputs": []
    },
    {
      "cell_type": "code",
      "metadata": {
        "colab": {
          "base_uri": "https://localhost:8080/"
        },
        "id": "oMqwvG9MhJdk",
        "outputId": "2cce2a2b-6425-4062-b9f7-a2d41c4bc726"
      },
      "source": [
        "print(DataMatrix)\n",
        "DataMatrix.shape"
      ],
      "execution_count": 15,
      "outputs": [
        {
          "output_type": "stream",
          "text": [
            "[[5. 3. 4. ... 0. 0. 0.]\n",
            " [4. 0. 0. ... 0. 0. 0.]\n",
            " [0. 0. 0. ... 0. 0. 0.]\n",
            " ...\n",
            " [5. 0. 0. ... 0. 0. 0.]\n",
            " [0. 0. 0. ... 0. 0. 0.]\n",
            " [0. 5. 0. ... 0. 0. 0.]]\n"
          ],
          "name": "stdout"
        },
        {
          "output_type": "execute_result",
          "data": {
            "text/plain": [
              "(943, 1682)"
            ]
          },
          "metadata": {
            "tags": []
          },
          "execution_count": 15
        }
      ]
    },
    {
      "cell_type": "markdown",
      "metadata": {
        "id": "LMOh37L1h_bj"
      },
      "source": [
        "# Rating Predictor Function"
      ]
    },
    {
      "cell_type": "code",
      "metadata": {
        "id": "CunauMfshJdk"
      },
      "source": [
        "def RatingPredictor(DataMatrix, NumberOfClusters):\n",
        "    Gmm = GaussianMixture(n_components=NumberOfClusters, covariance_type='full', \n",
        "                            tol=0.001, reg_covar=1e-06, max_iter=50, \n",
        "                            n_init=1, init_params='kmeans', weights_init=None, \n",
        "                            means_init=None, precisions_init=None, random_state=42, \n",
        "                            warm_start=False, verbose=0, verbose_interval=10)\n",
        "    Gmm.fit(DataMatrix)\n",
        "    n = DataMatrix.shape[0]\n",
        "    d = DataMatrix.shape[1]\n",
        "    K = Gmm.means_.shape[0]\n",
        "    #Inverse---------------------------------------\n",
        "    inv = np.zeros((K,d,d))\n",
        "    for j in range(K):\n",
        "        inv[j] = np.linalg.inv(Gmm.covariances_[j])\n",
        "    #Determinant-----------------------------------\n",
        "    det = np.zeros((K))\n",
        "    for j in range(K):\n",
        "        det[j] = np.linalg.det(Gmm.covariances_[j])\n",
        "    mean = Gmm.means_\n",
        "    variance = Gmm.covariances_\n",
        "    weight = np.log(Gmm.weights_)\n",
        "    calc = np.zeros((n, K))\n",
        "    ind = np.zeros((n, d))\n",
        "    soft = calc\n",
        "    add = np.zeros((n,))\n",
        "    dim = np.zeros((n,))\n",
        "    X_pred = ind\n",
        "    ind = np.where(DataMatrix != 0, 1, 0)            \n",
        "    dim = np.sum(ind, axis=1)\n",
        "    for i in range(n):\n",
        "        for j in range(K):\n",
        "            res = DataMatrix[i] - mean[j]\n",
        "            res = np.multiply(res, ind[i])\n",
        "            #Multivariate Gaussian\n",
        "            A = (res.T @ inv[j]) @ res\n",
        "            C = (dim[i]/2)*np.log(2*np.pi) + np.log(det[j] + 1e-16)/2\n",
        "            B = 2\n",
        "            calc[i, j] = weight[j] + (-A/B) - C\n",
        "    add = logsumexp(calc, axis = 1)\n",
        "\n",
        "    soft = np.exp(np.subtract(np.transpose(calc), add))\n",
        "\n",
        "    lg = np.sum(add)\n",
        "\n",
        "    X_calc = np.transpose(soft) @ Gmm.means_\n",
        "\n",
        "    #If the entry is a \"0\" in the original matrix, it will be replaced by the \n",
        "    # new predicted values in X_calc\n",
        "    DataMatrixPredGMM = np.where(DataMatrix == 0, X_calc, DataMatrix)\n",
        "\n",
        "    #Here we round off all the ratings so that they are integers\n",
        "    for i in range(DataMatrixPredGMM.shape[0]):\n",
        "        for j in range(DataMatrixPredGMM.shape[1]):\n",
        "            DataMatrixPredGMM[i, j] = round(DataMatrixPredGMM[i, j])\n",
        "\n",
        "    #For calculating the RMSE, we use the predicted values \"X_calc\"\n",
        "    for i in range(X_calc.shape[0]):\n",
        "        for j in range(X_calc.shape[1]):\n",
        "            X_pred[i, j] = round(X_calc[i, j])\n",
        "    IndMatrix = np.zeros((TotUsers, TotMovies))\n",
        "    IndMatrix = np.where(DataMatrix != 0, 1, 0)\n",
        "\n",
        "    x = np.multiply(X_pred, IndMatrix)\n",
        "    RMSE_SAE = np.sqrt(np.mean((x - DataMatrix)**2))\n",
        "    print(\"RMSE of SAE Model is %f.\" %RMSE_SAE)\n",
        "    return DataMatrixPredGMM, RMSE_SAE"
      ],
      "execution_count": 20,
      "outputs": []
    },
    {
      "cell_type": "code",
      "metadata": {
        "colab": {
          "base_uri": "https://localhost:8080/"
        },
        "id": "hjiKGZdfhJdl",
        "outputId": "7a88a2dd-02ad-49b8-9c39-eb5f62033b96"
      },
      "source": [
        "DataMatrixPredGMM, RMSE_SAE = RatingPredictor(DataMatrix, 2)\n",
        "print(DataMatrixPredGMM)\n",
        "print(RMSE_SAE)"
      ],
      "execution_count": 21,
      "outputs": [
        {
          "output_type": "stream",
          "text": [
            "RMSE of SAE Model is 0.714766.\n",
            "[[5. 3. 4. ... 0. 0. 0.]\n",
            " [4. 0. 0. ... 0. 0. 0.]\n",
            " [1. 0. 0. ... 0. 0. 0.]\n",
            " ...\n",
            " [5. 0. 0. ... 0. 0. 0.]\n",
            " [1. 0. 0. ... 0. 0. 0.]\n",
            " [3. 5. 1. ... 0. 0. 0.]]\n",
            "0.7147657346241669\n"
          ],
          "name": "stdout"
        }
      ]
    },
    {
      "cell_type": "code",
      "metadata": {
        "colab": {
          "base_uri": "https://localhost:8080/"
        },
        "id": "JJ6kwt7Fi7u1",
        "outputId": "6613ec7a-c27a-4fde-af62-690eee5c6c77"
      },
      "source": [
        "RMSE = np.zeros((31))\n",
        "for i in range(1, 31):\n",
        "    print(\"Number of clusters are:\", i)\n",
        "    DataMatrixPredGMM, RMSE_SAE = RatingPredictor(DataMatrix, i)\n",
        "    print(DataMatrixPredGMM)\n",
        "    print(RMSE_SAE)\n",
        "    print(\"-------------------------------------------------------------------\")\n",
        "    RMSE[i] = RMSE_SAE\n",
        "RMSE"
      ],
      "execution_count": 18,
      "outputs": [
        {
          "output_type": "stream",
          "text": [
            "Number of clusters are: 1\n",
            "RMSE of SAE Model is 0.785721.\n",
            "[[5. 3. 4. ... 0. 0. 0.]\n",
            " [4. 0. 0. ... 0. 0. 0.]\n",
            " [2. 0. 0. ... 0. 0. 0.]\n",
            " ...\n",
            " [5. 0. 0. ... 0. 0. 0.]\n",
            " [2. 0. 0. ... 0. 0. 0.]\n",
            " [2. 5. 0. ... 0. 0. 0.]]\n",
            "0.7857214951115679\n",
            "-------------------------------------------------------------------\n",
            "Number of clusters are: 2\n",
            "RMSE of SAE Model is 0.714766.\n",
            "[[5. 3. 4. ... 0. 0. 0.]\n",
            " [4. 0. 0. ... 0. 0. 0.]\n",
            " [1. 0. 0. ... 0. 0. 0.]\n",
            " ...\n",
            " [5. 0. 0. ... 0. 0. 0.]\n",
            " [1. 0. 0. ... 0. 0. 0.]\n",
            " [3. 5. 1. ... 0. 0. 0.]]\n",
            "0.7147657346241669\n",
            "-------------------------------------------------------------------\n",
            "Number of clusters are: 3\n",
            "RMSE of SAE Model is 0.700165.\n",
            "[[5. 3. 4. ... 0. 0. 0.]\n",
            " [4. 0. 0. ... 0. 0. 0.]\n",
            " [1. 0. 0. ... 0. 0. 0.]\n",
            " ...\n",
            " [5. 0. 0. ... 0. 0. 0.]\n",
            " [1. 0. 0. ... 0. 0. 0.]\n",
            " [3. 5. 0. ... 0. 0. 0.]]\n",
            "0.7001653699570342\n",
            "-------------------------------------------------------------------\n",
            "Number of clusters are: 4\n",
            "RMSE of SAE Model is 0.683798.\n",
            "[[5. 3. 4. ... 0. 0. 0.]\n",
            " [4. 0. 0. ... 0. 0. 0.]\n",
            " [1. 0. 0. ... 0. 0. 0.]\n",
            " ...\n",
            " [5. 0. 0. ... 0. 0. 0.]\n",
            " [2. 0. 0. ... 0. 0. 0.]\n",
            " [3. 5. 1. ... 0. 0. 0.]]\n",
            "0.6837983103191208\n",
            "-------------------------------------------------------------------\n",
            "Number of clusters are: 5\n",
            "RMSE of SAE Model is 0.680405.\n",
            "[[5. 3. 4. ... 0. 0. 0.]\n",
            " [4. 0. 0. ... 0. 0. 0.]\n",
            " [1. 0. 0. ... 0. 0. 0.]\n",
            " ...\n",
            " [5. 0. 0. ... 0. 0. 0.]\n",
            " [2. 0. 0. ... 0. 0. 0.]\n",
            " [3. 5. 1. ... 0. 0. 0.]]\n",
            "0.680404740195962\n",
            "-------------------------------------------------------------------\n",
            "Number of clusters are: 6\n",
            "RMSE of SAE Model is 0.675418.\n",
            "[[5. 3. 4. ... 0. 0. 0.]\n",
            " [4. 0. 0. ... 0. 0. 0.]\n",
            " [1. 0. 0. ... 0. 0. 0.]\n",
            " ...\n",
            " [5. 0. 0. ... 0. 0. 0.]\n",
            " [1. 0. 0. ... 0. 0. 0.]\n",
            " [4. 5. 0. ... 0. 0. 0.]]\n",
            "0.6754184728906047\n",
            "-------------------------------------------------------------------\n",
            "Number of clusters are: 7\n",
            "RMSE of SAE Model is 0.665182.\n",
            "[[5. 3. 4. ... 0. 0. 0.]\n",
            " [4. 0. 0. ... 0. 0. 0.]\n",
            " [0. 0. 0. ... 0. 0. 0.]\n",
            " ...\n",
            " [5. 0. 0. ... 0. 0. 0.]\n",
            " [2. 0. 0. ... 0. 0. 0.]\n",
            " [4. 5. 1. ... 0. 0. 0.]]\n",
            "0.6651817343529278\n",
            "-------------------------------------------------------------------\n",
            "Number of clusters are: 8\n",
            "RMSE of SAE Model is 0.662869.\n",
            "[[5. 3. 4. ... 0. 0. 0.]\n",
            " [4. 0. 0. ... 0. 0. 0.]\n",
            " [0. 0. 0. ... 0. 0. 0.]\n",
            " ...\n",
            " [5. 0. 0. ... 0. 0. 0.]\n",
            " [2. 0. 0. ... 0. 0. 0.]\n",
            " [3. 5. 0. ... 0. 0. 0.]]\n",
            "0.662868844344429\n",
            "-------------------------------------------------------------------\n",
            "Number of clusters are: 9\n",
            "RMSE of SAE Model is 0.662300.\n",
            "[[5. 3. 4. ... 0. 0. 0.]\n",
            " [4. 0. 0. ... 0. 0. 0.]\n",
            " [0. 0. 0. ... 0. 0. 0.]\n",
            " ...\n",
            " [5. 0. 0. ... 0. 0. 0.]\n",
            " [1. 0. 0. ... 0. 0. 0.]\n",
            " [3. 5. 1. ... 0. 0. 0.]]\n",
            "0.6622998311539552\n",
            "-------------------------------------------------------------------\n",
            "Number of clusters are: 10\n",
            "RMSE of SAE Model is 0.656645.\n",
            "[[5. 3. 4. ... 0. 0. 0.]\n",
            " [4. 0. 1. ... 0. 0. 0.]\n",
            " [0. 0. 0. ... 0. 0. 0.]\n",
            " ...\n",
            " [5. 0. 0. ... 0. 0. 0.]\n",
            " [2. 0. 0. ... 0. 0. 0.]\n",
            " [3. 5. 1. ... 0. 0. 0.]]\n",
            "0.6566445096258275\n",
            "-------------------------------------------------------------------\n",
            "Number of clusters are: 11\n",
            "RMSE of SAE Model is 0.655763.\n",
            "[[5. 3. 4. ... 0. 0. 0.]\n",
            " [4. 0. 0. ... 0. 0. 0.]\n",
            " [0. 0. 0. ... 0. 0. 0.]\n",
            " ...\n",
            " [5. 0. 0. ... 0. 0. 0.]\n",
            " [1. 0. 0. ... 0. 0. 0.]\n",
            " [3. 5. 1. ... 0. 0. 0.]]\n",
            "0.6557625139686409\n",
            "-------------------------------------------------------------------\n",
            "Number of clusters are: 12\n",
            "RMSE of SAE Model is 0.653551.\n",
            "[[5. 3. 4. ... 0. 0. 0.]\n",
            " [4. 0. 0. ... 0. 0. 0.]\n",
            " [0. 0. 0. ... 0. 0. 0.]\n",
            " ...\n",
            " [5. 0. 0. ... 0. 0. 0.]\n",
            " [1. 0. 0. ... 0. 0. 0.]\n",
            " [3. 5. 1. ... 0. 0. 0.]]\n",
            "0.6535513526528883\n",
            "-------------------------------------------------------------------\n",
            "Number of clusters are: 13\n",
            "RMSE of SAE Model is 0.653244.\n",
            "[[5. 3. 4. ... 0. 0. 0.]\n",
            " [4. 0. 0. ... 0. 0. 0.]\n",
            " [0. 0. 0. ... 0. 0. 0.]\n",
            " ...\n",
            " [5. 0. 0. ... 0. 0. 0.]\n",
            " [1. 0. 0. ... 0. 0. 0.]\n",
            " [3. 5. 1. ... 0. 0. 0.]]\n",
            "0.6532435477285501\n",
            "-------------------------------------------------------------------\n",
            "Number of clusters are: 14\n",
            "RMSE of SAE Model is 0.653114.\n",
            "[[5. 3. 4. ... 0. 0. 0.]\n",
            " [4. 0. 0. ... 0. 0. 0.]\n",
            " [0. 0. 0. ... 0. 0. 0.]\n",
            " ...\n",
            " [5. 0. 0. ... 0. 0. 0.]\n",
            " [1. 0. 0. ... 0. 0. 0.]\n",
            " [3. 5. 1. ... 0. 0. 0.]]\n",
            "0.6531137244332604\n",
            "-------------------------------------------------------------------\n",
            "Number of clusters are: 15\n",
            "RMSE of SAE Model is 0.649329.\n",
            "[[5. 3. 4. ... 0. 0. 0.]\n",
            " [4. 0. 1. ... 0. 0. 0.]\n",
            " [0. 0. 0. ... 0. 0. 0.]\n",
            " ...\n",
            " [5. 0. 0. ... 0. 0. 0.]\n",
            " [1. 0. 0. ... 0. 0. 0.]\n",
            " [3. 5. 1. ... 0. 0. 0.]]\n",
            "0.6493288196801353\n",
            "-------------------------------------------------------------------\n",
            "Number of clusters are: 16\n",
            "RMSE of SAE Model is 0.649984.\n",
            "[[5. 3. 4. ... 0. 0. 0.]\n",
            " [4. 0. 1. ... 0. 0. 0.]\n",
            " [0. 0. 0. ... 0. 0. 0.]\n",
            " ...\n",
            " [5. 0. 0. ... 0. 0. 0.]\n",
            " [2. 0. 0. ... 0. 0. 0.]\n",
            " [3. 5. 1. ... 0. 0. 0.]]\n",
            "0.6499843666568484\n",
            "-------------------------------------------------------------------\n",
            "Number of clusters are: 17\n",
            "RMSE of SAE Model is 0.649473.\n",
            "[[5. 3. 4. ... 0. 0. 0.]\n",
            " [4. 0. 1. ... 0. 0. 0.]\n",
            " [0. 0. 0. ... 0. 0. 0.]\n",
            " ...\n",
            " [5. 0. 0. ... 0. 0. 0.]\n",
            " [2. 0. 0. ... 0. 0. 0.]\n",
            " [3. 5. 1. ... 0. 0. 0.]]\n",
            "0.6494725046377089\n",
            "-------------------------------------------------------------------\n",
            "Number of clusters are: 18\n",
            "RMSE of SAE Model is 0.647322.\n",
            "[[5. 3. 4. ... 0. 0. 0.]\n",
            " [4. 0. 1. ... 0. 0. 0.]\n",
            " [0. 0. 0. ... 0. 0. 0.]\n",
            " ...\n",
            " [5. 0. 0. ... 0. 0. 0.]\n",
            " [2. 0. 0. ... 0. 0. 0.]\n",
            " [3. 5. 1. ... 0. 0. 0.]]\n",
            "0.6473216731684841\n",
            "-------------------------------------------------------------------\n",
            "Number of clusters are: 19\n",
            "RMSE of SAE Model is 0.644236.\n",
            "[[5. 3. 4. ... 0. 0. 0.]\n",
            " [4. 0. 1. ... 0. 0. 0.]\n",
            " [0. 0. 0. ... 0. 0. 0.]\n",
            " ...\n",
            " [5. 0. 0. ... 0. 0. 0.]\n",
            " [2. 0. 0. ... 0. 0. 0.]\n",
            " [2. 5. 1. ... 0. 0. 0.]]\n",
            "0.6442356219440082\n",
            "-------------------------------------------------------------------\n",
            "Number of clusters are: 20\n",
            "RMSE of SAE Model is 0.643275.\n",
            "[[5. 3. 4. ... 0. 0. 0.]\n",
            " [4. 0. 1. ... 0. 0. 0.]\n",
            " [0. 0. 0. ... 0. 0. 0.]\n",
            " ...\n",
            " [5. 0. 0. ... 0. 0. 0.]\n",
            " [2. 0. 0. ... 0. 0. 0.]\n",
            " [2. 5. 1. ... 0. 0. 0.]]\n",
            "0.6432753616603535\n",
            "-------------------------------------------------------------------\n",
            "Number of clusters are: 21\n",
            "RMSE of SAE Model is 0.642035.\n",
            "[[5. 3. 4. ... 0. 0. 0.]\n",
            " [4. 0. 0. ... 0. 0. 0.]\n",
            " [0. 0. 0. ... 0. 0. 0.]\n",
            " ...\n",
            " [5. 0. 0. ... 0. 0. 0.]\n",
            " [2. 0. 0. ... 0. 0. 0.]\n",
            " [2. 5. 1. ... 0. 0. 0.]]\n",
            "0.642035334311113\n",
            "-------------------------------------------------------------------\n",
            "Number of clusters are: 22\n",
            "RMSE of SAE Model is 0.641028.\n",
            "[[5. 3. 4. ... 0. 0. 0.]\n",
            " [4. 0. 0. ... 0. 0. 0.]\n",
            " [0. 0. 0. ... 0. 0. 0.]\n",
            " ...\n",
            " [5. 0. 0. ... 0. 0. 0.]\n",
            " [2. 0. 0. ... 0. 0. 0.]\n",
            " [2. 5. 1. ... 0. 0. 0.]]\n",
            "0.6410280128701995\n",
            "-------------------------------------------------------------------\n",
            "Number of clusters are: 23\n",
            "RMSE of SAE Model is 0.637496.\n",
            "[[5. 3. 4. ... 0. 0. 0.]\n",
            " [4. 0. 0. ... 0. 0. 0.]\n",
            " [0. 0. 0. ... 0. 0. 0.]\n",
            " ...\n",
            " [5. 0. 0. ... 0. 0. 0.]\n",
            " [2. 0. 0. ... 0. 0. 0.]\n",
            " [2. 5. 1. ... 0. 0. 0.]]\n",
            "0.6374957871380191\n",
            "-------------------------------------------------------------------\n",
            "Number of clusters are: 24\n",
            "RMSE of SAE Model is 0.636306.\n",
            "[[5. 3. 4. ... 0. 0. 0.]\n",
            " [4. 0. 0. ... 0. 0. 0.]\n",
            " [0. 0. 0. ... 0. 0. 0.]\n",
            " ...\n",
            " [5. 0. 0. ... 0. 0. 0.]\n",
            " [2. 0. 0. ... 0. 0. 0.]\n",
            " [2. 5. 1. ... 0. 0. 0.]]\n",
            "0.6363059296467094\n",
            "-------------------------------------------------------------------\n",
            "Number of clusters are: 25\n",
            "RMSE of SAE Model is 0.635052.\n",
            "[[5. 3. 4. ... 0. 0. 0.]\n",
            " [4. 0. 0. ... 0. 0. 0.]\n",
            " [0. 0. 0. ... 0. 0. 0.]\n",
            " ...\n",
            " [5. 0. 0. ... 0. 0. 0.]\n",
            " [2. 0. 0. ... 0. 0. 0.]\n",
            " [2. 5. 1. ... 0. 0. 0.]]\n",
            "0.6350517972743253\n",
            "-------------------------------------------------------------------\n",
            "Number of clusters are: 26\n",
            "RMSE of SAE Model is 0.636327.\n",
            "[[5. 3. 4. ... 0. 0. 0.]\n",
            " [4. 0. 0. ... 0. 0. 0.]\n",
            " [0. 0. 0. ... 0. 0. 0.]\n",
            " ...\n",
            " [5. 0. 0. ... 0. 0. 0.]\n",
            " [2. 0. 0. ... 0. 0. 0.]\n",
            " [1. 5. 1. ... 0. 0. 0.]]\n",
            "0.6363272319976799\n",
            "-------------------------------------------------------------------\n",
            "Number of clusters are: 27\n",
            "RMSE of SAE Model is 0.635640.\n",
            "[[5. 3. 4. ... 0. 0. 0.]\n",
            " [4. 0. 0. ... 0. 0. 0.]\n",
            " [0. 0. 0. ... 0. 0. 0.]\n",
            " ...\n",
            " [5. 0. 0. ... 0. 0. 0.]\n",
            " [2. 0. 0. ... 0. 0. 0.]\n",
            " [1. 5. 1. ... 0. 0. 0.]]\n",
            "0.6356397474521328\n",
            "-------------------------------------------------------------------\n",
            "Number of clusters are: 28\n",
            "RMSE of SAE Model is 0.632252.\n",
            "[[5. 3. 4. ... 0. 0. 0.]\n",
            " [4. 0. 0. ... 0. 0. 0.]\n",
            " [0. 0. 0. ... 0. 0. 0.]\n",
            " ...\n",
            " [5. 0. 0. ... 0. 0. 0.]\n",
            " [2. 0. 0. ... 0. 0. 0.]\n",
            " [1. 5. 1. ... 0. 0. 0.]]\n",
            "0.6322519413202027\n",
            "-------------------------------------------------------------------\n",
            "Number of clusters are: 29\n",
            "RMSE of SAE Model is 0.630159.\n",
            "[[5. 3. 4. ... 0. 0. 0.]\n",
            " [4. 0. 1. ... 0. 0. 0.]\n",
            " [0. 0. 0. ... 0. 0. 0.]\n",
            " ...\n",
            " [5. 0. 0. ... 0. 0. 0.]\n",
            " [2. 0. 0. ... 0. 0. 0.]\n",
            " [1. 5. 1. ... 0. 0. 0.]]\n",
            "0.6301588929568626\n",
            "-------------------------------------------------------------------\n",
            "Number of clusters are: 30\n",
            "RMSE of SAE Model is 0.628832.\n",
            "[[5. 3. 4. ... 0. 0. 0.]\n",
            " [4. 0. 1. ... 0. 0. 0.]\n",
            " [0. 0. 0. ... 0. 0. 0.]\n",
            " ...\n",
            " [5. 0. 0. ... 0. 0. 0.]\n",
            " [2. 0. 0. ... 0. 0. 0.]\n",
            " [1. 5. 1. ... 0. 0. 0.]]\n",
            "0.6288318479459346\n",
            "-------------------------------------------------------------------\n"
          ],
          "name": "stdout"
        },
        {
          "output_type": "execute_result",
          "data": {
            "text/plain": [
              "array([0.        , 0.7857215 , 0.71476573, 0.70016537, 0.68379831,\n",
              "       0.68040474, 0.67541847, 0.66518173, 0.66286884, 0.66229983,\n",
              "       0.65664451, 0.65576251, 0.65355135, 0.65324355, 0.65311372,\n",
              "       0.64932882, 0.64998437, 0.6494725 , 0.64732167, 0.64423562,\n",
              "       0.64327536, 0.64203533, 0.64102801, 0.63749579, 0.63630593,\n",
              "       0.6350518 , 0.63632723, 0.63563975, 0.63225194, 0.63015889,\n",
              "       0.62883185])"
            ]
          },
          "metadata": {
            "tags": []
          },
          "execution_count": 18
        }
      ]
    },
    {
      "cell_type": "code",
      "metadata": {
        "colab": {
          "base_uri": "https://localhost:8080/",
          "height": 283
        },
        "id": "WHywkkLfyFsI",
        "outputId": "06ec0f0c-c1cf-4295-8aff-9cf8491b45d1"
      },
      "source": [
        "x = np.linspace(1, 30, 30)\n",
        "plt.plot(x, RMSE[1:], color='blue')"
      ],
      "execution_count": 19,
      "outputs": [
        {
          "output_type": "execute_result",
          "data": {
            "text/plain": [
              "[<matplotlib.lines.Line2D at 0x7fdf175cb850>]"
            ]
          },
          "metadata": {
            "tags": []
          },
          "execution_count": 19
        },
        {
          "output_type": "display_data",
          "data": {
            "image/png": "[encoded data removed]",
            "text/plain": [
              "<Figure size 432x288 with 1 Axes>"
            ]
          },
          "metadata": {
            "tags": [],
            "needs_background": "light"
          }
        }
      ]
    }
  ]
}